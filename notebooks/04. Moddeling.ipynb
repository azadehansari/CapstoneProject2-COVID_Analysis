{
 "cells": [
  {
   "cell_type": "code",
   "execution_count": 1,
   "metadata": {},
   "outputs": [],
   "source": [
    "import pandas as pd\n",
    "import numpy as np\n",
    "\n",
    "df_train = pd.read_csv('../data/train.csv')\n",
    "df_test = pd.read_csv('../data/test.csv')\n"
   ]
  },
  {
   "cell_type": "code",
   "execution_count": 2,
   "metadata": {},
   "outputs": [],
   "source": [
    "from sklearn.linear_model import LogisticRegression\n",
    "from sklearn.metrics import classification_report\n",
    "from sklearn.model_selection import cross_val_score\n",
    "from sklearn.metrics import make_scorer, accuracy_score, roc_curve, roc_auc_score, precision_recall_curve, auc\n",
    "from sklearn.metrics import confusion_matrix, f1_score, classification_report, ConfusionMatrixDisplay\n",
    "from bayes_opt import BayesianOptimization\n",
    "import matplotlib.pyplot as plt"
   ]
  },
  {
   "cell_type": "code",
   "execution_count": 21,
   "metadata": {},
   "outputs": [],
   "source": [
    "# Function to plot and save ROC curve\n",
    "def plot_roc_curve(y_test, y_pred_prob, model_name):\n",
    "    fpr, tpr, _ = roc_curve(y_test, y_pred_prob)\n",
    "    roc_auc = roc_auc_score(y_test, y_pred_prob)\n",
    "    plt.figure()\n",
    "    plt.plot(fpr, tpr, color='darkorange', lw=2, label='ROC curve (area = %0.2f)' % roc_auc)\n",
    "    plt.plot([0, 1], [0, 1], color='navy', lw=2, linestyle='--')\n",
    "    plt.xlim([0.0, 1.0])\n",
    "    plt.ylim([0.0, 1.05])\n",
    "    plt.xlabel('False Positive Rate')\n",
    "    plt.ylabel('True Positive Rate')\n",
    "    plt.title('Receiver Operating Characteristic - ' + model_name)\n",
    "    plt.legend(loc=\"lower right\")\n",
    "    plt.savefig(f'../figures/{model_name}_roc_curve.png'.replace(' ', '_'))\n",
    "    plt.close()\n",
    "\n",
    "# Function to plot and save Precision-Recall curve\n",
    "def plot_precision_recall_curve(y_test, y_pred_prob, model_name):\n",
    "    precision, recall, _ = precision_recall_curve(y_test, y_pred_prob)\n",
    "    pr_auc = auc(recall, precision)\n",
    "    plt.figure()\n",
    "    plt.plot(recall, precision, color='darkorange', lw=2, label='Precision-Recall curve (area = %0.2f)' % pr_auc)\n",
    "    plt.xlim([0.0, 1.0])\n",
    "    plt.ylim([0.0, 1.05])\n",
    "    plt.xlabel('Recall')\n",
    "    plt.ylabel('Precision')\n",
    "    plt.title('Precision-Recall Curve - ' + model_name)\n",
    "    plt.legend(loc=\"lower left\")\n",
    "    plt.savefig(f'../figures/{model_name}_precision_recall_curve.png'.replace(' ', '_'))\n",
    "    plt.close()"
   ]
  },
  {
   "cell_type": "code",
   "execution_count": 4,
   "metadata": {},
   "outputs": [
    {
     "data": {
      "text/plain": [
       "0         0\n",
       "1         0\n",
       "2         0\n",
       "3         0\n",
       "4         0\n",
       "         ..\n",
       "817594    0\n",
       "817595    0\n",
       "817596    0\n",
       "817597    0\n",
       "817598    0\n",
       "Name: DIED, Length: 817599, dtype: int64"
      ]
     },
     "execution_count": 4,
     "metadata": {},
     "output_type": "execute_result"
    }
   ],
   "source": [
    "df_train['DIED']"
   ]
  },
  {
   "cell_type": "code",
   "execution_count": 5,
   "metadata": {},
   "outputs": [],
   "source": [
    "x_train = df_train.drop(columns = ['DIED'])\n",
    "y_train = df_train['DIED']\n",
    "\n",
    "x_test = df_test.drop(columns = ['DIED'])\n",
    "y_test = df_test['DIED']\n"
   ]
  },
  {
   "cell_type": "markdown",
   "metadata": {},
   "source": [
    "# Logistic Regression"
   ]
  },
  {
   "cell_type": "code",
   "execution_count": 6,
   "metadata": {},
   "outputs": [],
   "source": [
    "# Logistic Regression\n",
    "from sklearn.linear_model import LogisticRegression\n",
    "\n",
    "lr_clf = LogisticRegression(random_state=1, max_iter=300)\n",
    "lr_model_res = lr_clf.fit(x_train, y_train)\n",
    "lr_y_pred = lr_model_res.predict(x_test)\n",
    "lr_y_pred_prob = lr_model_res.predict_proba(x_test)[:, 1]\n",
    "\n",
    "# Evaluation\n",
    "plot_roc_curve(y_test, lr_y_pred_prob, 'Logistic Regression')\n",
    "plot_precision_recall_curve(y_test, lr_y_pred_prob, 'Logistic Regression')\n"
   ]
  },
  {
   "cell_type": "code",
   "execution_count": 8,
   "metadata": {},
   "outputs": [
    {
     "data": {
      "text/plain": [
       "0.9287377690802349"
      ]
     },
     "execution_count": 8,
     "metadata": {},
     "output_type": "execute_result"
    }
   ],
   "source": [
    "lr_clf.score(x_test, y_test)"
   ]
  },
  {
   "cell_type": "code",
   "execution_count": 9,
   "metadata": {},
   "outputs": [
    {
     "name": "stdout",
     "output_type": "stream",
     "text": [
      "              precision    recall  f1-score   support\n",
      "\n",
      "           0       0.93      1.00      0.96    189834\n",
      "           1       0.00      0.00      0.00     14566\n",
      "\n",
      "    accuracy                           0.93    204400\n",
      "   macro avg       0.46      0.50      0.48    204400\n",
      "weighted avg       0.86      0.93      0.89    204400\n",
      "\n"
     ]
    },
    {
     "name": "stderr",
     "output_type": "stream",
     "text": [
      "c:\\Users\\Azadeh\\anaconda3\\lib\\site-packages\\sklearn\\metrics\\_classification.py:1471: UndefinedMetricWarning: Precision and F-score are ill-defined and being set to 0.0 in labels with no predicted samples. Use `zero_division` parameter to control this behavior.\n",
      "  _warn_prf(average, modifier, msg_start, len(result))\n",
      "c:\\Users\\Azadeh\\anaconda3\\lib\\site-packages\\sklearn\\metrics\\_classification.py:1471: UndefinedMetricWarning: Precision and F-score are ill-defined and being set to 0.0 in labels with no predicted samples. Use `zero_division` parameter to control this behavior.\n",
      "  _warn_prf(average, modifier, msg_start, len(result))\n",
      "c:\\Users\\Azadeh\\anaconda3\\lib\\site-packages\\sklearn\\metrics\\_classification.py:1471: UndefinedMetricWarning: Precision and F-score are ill-defined and being set to 0.0 in labels with no predicted samples. Use `zero_division` parameter to control this behavior.\n",
      "  _warn_prf(average, modifier, msg_start, len(result))\n"
     ]
    }
   ],
   "source": [
    "print(classification_report(y_test, lr_y_pred))"
   ]
  },
  {
   "cell_type": "code",
   "execution_count": 11,
   "metadata": {},
   "outputs": [
    {
     "data": {
      "text/plain": [
       "{'C': 1.0,\n",
       " 'class_weight': None,\n",
       " 'dual': False,\n",
       " 'fit_intercept': True,\n",
       " 'intercept_scaling': 1,\n",
       " 'l1_ratio': None,\n",
       " 'max_iter': 300,\n",
       " 'multi_class': 'auto',\n",
       " 'n_jobs': None,\n",
       " 'penalty': 'l2',\n",
       " 'random_state': 1,\n",
       " 'solver': 'lbfgs',\n",
       " 'tol': 0.0001,\n",
       " 'verbose': 0,\n",
       " 'warm_start': False}"
      ]
     },
     "execution_count": 11,
     "metadata": {},
     "output_type": "execute_result"
    }
   ],
   "source": [
    "lr_clf.get_params()"
   ]
  },
  {
   "cell_type": "markdown",
   "metadata": {},
   "source": [
    "### Optimize Logistic Regression Model using Bayesian Optimization"
   ]
  },
  {
   "cell_type": "code",
   "execution_count": 25,
   "metadata": {},
   "outputs": [
    {
     "name": "stdout",
     "output_type": "stream",
     "text": [
      "|   iter    |  target   |     C     |  penalty  |\n",
      "-------------------------------------------------\n",
      "| \u001b[0m1        \u001b[0m | \u001b[0m0.9278   \u001b[0m | \u001b[0m-0.7528  \u001b[0m | \u001b[0m0.9507   \u001b[0m |\n",
      "| \u001b[0m2        \u001b[0m | \u001b[0m0.9278   \u001b[0m | \u001b[0m1.392    \u001b[0m | \u001b[0m0.5987   \u001b[0m |\n",
      "| \u001b[95m3        \u001b[0m | \u001b[95m0.9492   \u001b[0m | \u001b[95m-2.064   \u001b[0m | \u001b[95m0.156    \u001b[0m |\n",
      "| \u001b[0m4        \u001b[0m | \u001b[0m0.9278   \u001b[0m | \u001b[0m-2.651   \u001b[0m | \u001b[0m0.8662   \u001b[0m |\n",
      "| \u001b[0m5        \u001b[0m | \u001b[0m0.9278   \u001b[0m | \u001b[0m0.6067   \u001b[0m | \u001b[0m0.7081   \u001b[0m |\n",
      "| \u001b[0m6        \u001b[0m | \u001b[0m0.9491   \u001b[0m | \u001b[0m-2.018   \u001b[0m | \u001b[0m0.1643   \u001b[0m |\n",
      "| \u001b[0m7        \u001b[0m | \u001b[0m0.9491   \u001b[0m | \u001b[0m3.0      \u001b[0m | \u001b[0m0.0      \u001b[0m |\n",
      "| \u001b[0m8        \u001b[0m | \u001b[0m0.9278   \u001b[0m | \u001b[0m3.0      \u001b[0m | \u001b[0m0.8541   \u001b[0m |\n",
      "| \u001b[0m9        \u001b[0m | \u001b[0m0.9491   \u001b[0m | \u001b[0m2.475    \u001b[0m | \u001b[0m0.0      \u001b[0m |\n",
      "| \u001b[0m10       \u001b[0m | \u001b[0m0.9491   \u001b[0m | \u001b[0m-1.27    \u001b[0m | \u001b[0m0.0      \u001b[0m |\n",
      "| \u001b[0m11       \u001b[0m | \u001b[0m0.9481   \u001b[0m | \u001b[0m-3.0     \u001b[0m | \u001b[0m0.0      \u001b[0m |\n",
      "| \u001b[0m12       \u001b[0m | \u001b[0m0.9491   \u001b[0m | \u001b[0m-0.4174  \u001b[0m | \u001b[0m0.0      \u001b[0m |\n",
      "| \u001b[0m13       \u001b[0m | \u001b[0m0.9491   \u001b[0m | \u001b[0m0.165    \u001b[0m | \u001b[0m0.0      \u001b[0m |\n",
      "| \u001b[0m14       \u001b[0m | \u001b[0m0.9491   \u001b[0m | \u001b[0m-1.788   \u001b[0m | \u001b[0m0.0      \u001b[0m |\n",
      "| \u001b[0m15       \u001b[0m | \u001b[0m0.9491   \u001b[0m | \u001b[0m1.9      \u001b[0m | \u001b[0m0.0      \u001b[0m |\n",
      "| \u001b[0m16       \u001b[0m | \u001b[0m0.9491   \u001b[0m | \u001b[0m0.8876   \u001b[0m | \u001b[0m0.0      \u001b[0m |\n",
      "| \u001b[0m17       \u001b[0m | \u001b[0m0.9491   \u001b[0m | \u001b[0m-2.558   \u001b[0m | \u001b[0m0.0      \u001b[0m |\n",
      "| \u001b[0m18       \u001b[0m | \u001b[0m0.9491   \u001b[0m | \u001b[0m1.36     \u001b[0m | \u001b[0m0.007099 \u001b[0m |\n",
      "| \u001b[0m19       \u001b[0m | \u001b[0m0.9491   \u001b[0m | \u001b[0m-0.847   \u001b[0m | \u001b[0m0.0      \u001b[0m |\n",
      "| \u001b[0m20       \u001b[0m | \u001b[0m0.9491   \u001b[0m | \u001b[0m0.5186   \u001b[0m | \u001b[0m0.0      \u001b[0m |\n",
      "=================================================\n",
      "Best Parameters: {'C': -2.0638881573453807, 'penalty': 0.15599452033620265}\n"
     ]
    }
   ],
   "source": [
    "def objective_function(C, penalty):\n",
    "    C = 10 ** C  # Convert C from log scale\n",
    "    penalty = 'l1' if penalty < 0.5 else 'l2'  # Map to 'l1' or 'l2'\n",
    "    \n",
    "    # Create logistic regression model with specified parameters\n",
    "    model = LogisticRegression(C=C, penalty=penalty, solver='liblinear', random_state=42)\n",
    "    \n",
    "    # Calculate cross-validated accuracy\n",
    "    cv_accuracy = np.mean(cross_val_score(model, x_train, y_train, cv=5))\n",
    "    \n",
    "    return cv_accuracy\n",
    "\n",
    "# Define parameter space\n",
    "pbounds = {'C': (-3, 3), 'penalty': (0, 1)}  # Log scale for C, binary for penalty choice\n",
    "\n",
    "# Run Bayesian optimization\n",
    "optimizer = BayesianOptimization(\n",
    "    f=objective_function,\n",
    "    pbounds=pbounds,\n",
    "    random_state=42,\n",
    ")\n",
    "\n",
    "optimizer.maximize(init_points=5, n_iter=15)\n",
    "\n",
    "# Print best parameters found\n",
    "best_params = optimizer.max['params']\n",
    "print(\"Best Parameters:\", best_params)"
   ]
  },
  {
   "cell_type": "code",
   "execution_count": 26,
   "metadata": {},
   "outputs": [
    {
     "name": "stdout",
     "output_type": "stream",
     "text": [
      "Accuracy: 0.9492000357143294\n"
     ]
    }
   ],
   "source": [
    "# Train logistic regression model with best parameters\n",
    "best_C = 10 ** best_params['C']  # Convert C from log scale\n",
    "best_penalty = 'l1' if best_params['penalty'] < 0.5 else 'l2'  # Map to 'l1' or 'l2'\n",
    "\n",
    "best_model = LogisticRegression(C=best_C, penalty=best_penalty, solver='liblinear', random_state=42)\n",
    "best_model.fit(x_train, y_train)\n",
    "\n",
    "# Evaluate performance\n",
    "y_pred = best_model.predict(x_train)\n",
    "accuracy = accuracy_score(y_train, y_pred)\n",
    "print(\"Accuracy:\", accuracy)"
   ]
  },
  {
   "cell_type": "code",
   "execution_count": 27,
   "metadata": {},
   "outputs": [
    {
     "name": "stdout",
     "output_type": "stream",
     "text": [
      "              precision    recall  f1-score   support\n",
      "\n",
      "           0       0.96      0.98      0.97    758560\n",
      "           1       0.71      0.50      0.59     59039\n",
      "\n",
      "    accuracy                           0.95    817599\n",
      "   macro avg       0.84      0.74      0.78    817599\n",
      "weighted avg       0.94      0.95      0.95    817599\n",
      "\n"
     ]
    }
   ],
   "source": [
    "y_test_predicted = best_model.predict(x_test)\n",
    "F1 = f1_score(y_train,y_pred)\n",
    "# best_model.predict_proba()\n",
    "print(classification_report(y_train,y_pred))"
   ]
  },
  {
   "cell_type": "markdown",
   "metadata": {},
   "source": [
    "* Precision: out of people we thought die -> 71% actually died\n",
    "* Recall: out of all people who actually died, 50% of them we got 1 "
   ]
  },
  {
   "cell_type": "code",
   "execution_count": 28,
   "metadata": {},
   "outputs": [
    {
     "name": "stdout",
     "output_type": "stream",
     "text": [
      "AUC Score: 0.9631480671093301\n"
     ]
    }
   ],
   "source": [
    "y_prob = best_model.predict_proba(x_test)[:, 1]\n",
    "\n",
    "# Calculate AUC\n",
    "auc_score = roc_auc_score(y_test, y_prob)\n",
    "print(\"AUC Score:\", auc_score)"
   ]
  },
  {
   "cell_type": "code",
   "execution_count": 29,
   "metadata": {},
   "outputs": [],
   "source": [
    "plot_roc_curve(y_test, y_prob, 'Logistic Regression_Best')\n",
    "plot_precision_recall_curve(y_test, y_prob, 'Logistic Regression_Best')"
   ]
  },
  {
   "cell_type": "code",
   "execution_count": 15,
   "metadata": {},
   "outputs": [
    {
     "data": {
      "image/png": "[encoded data removed]",
      "text/plain": [
       "<Figure size 576x432 with 1 Axes>"
      ]
     },
     "metadata": {
      "needs_background": "light"
     },
     "output_type": "display_data"
    }
   ],
   "source": [
    "import matplotlib.pyplot as plt\n",
    "\n",
    " # Calculate precision-recall curve\n",
    "precision, recall, thresholds = precision_recall_curve(y_test, y_prob)\n",
    "pr_auc = auc(recall, precision)\n",
    "\n",
    "# Plot precision-recall curve\n",
    "plt.figure(figsize=(8, 6))\n",
    "plt.plot(recall, precision, color='b', label=f'PR AUC = {pr_auc:.2f}')\n",
    "plt.xlabel('Recall')\n",
    "plt.ylabel('Precision')\n",
    "plt.title('Precision-Recall Curve')\n",
    "plt.legend(loc='best')\n",
    "plt.show()"
   ]
  },
  {
   "cell_type": "markdown",
   "metadata": {},
   "source": [
    "# Random Forest"
   ]
  },
  {
   "cell_type": "code",
   "execution_count": 12,
   "metadata": {},
   "outputs": [
    {
     "name": "stdout",
     "output_type": "stream",
     "text": [
      "Random Forest: Accuracy=0.945\n",
      "Random Forest: f1-score=0.943\n"
     ]
    }
   ],
   "source": [
    "from sklearn.ensemble import RandomForestClassifier\n",
    "\n",
    "rf_clf = RandomForestClassifier(n_estimators=300, random_state=1, n_jobs=-1)\n",
    "rf_model_res = rf_clf.fit(x_train, y_train)\n",
    "rf_y_pred = rf_model_res.predict(x_test)\n",
    "rf_y_pred_prob = rf_model_res.predict_proba(x_test)[:, 1]\n",
    "rf_ac = accuracy_score(y_test, rf_y_pred)\n",
    "rf_f1 = f1_score(y_test, rf_y_pred, average='weighted')\n",
    "rf_cm = confusion_matrix(y_test, rf_y_pred)\n",
    "\n",
    "print('Random Forest: Accuracy=%.3f' % (rf_ac))\n",
    "\n",
    "print('Random Forest: f1-score=%.3f' % (rf_f1))\n",
    "\n",
    "# Evaluation\n",
    "plot_roc_curve(y_test, rf_y_pred_prob, 'Random Forest')\n",
    "plot_precision_recall_curve(y_test, rf_y_pred_prob, 'Random Forest')\n"
   ]
  },
  {
   "cell_type": "code",
   "execution_count": 13,
   "metadata": {},
   "outputs": [
    {
     "name": "stdout",
     "output_type": "stream",
     "text": [
      "              precision    recall  f1-score   support\n",
      "\n",
      "           0       0.96      0.98      0.97    189834\n",
      "           1       0.64      0.53      0.58     14566\n",
      "\n",
      "    accuracy                           0.94    204400\n",
      "   macro avg       0.80      0.76      0.78    204400\n",
      "weighted avg       0.94      0.94      0.94    204400\n",
      "\n"
     ]
    }
   ],
   "source": [
    "print(classification_report(y_test,rf_y_pred))"
   ]
  },
  {
   "cell_type": "code",
   "execution_count": 18,
   "metadata": {},
   "outputs": [
    {
     "data": {
      "image/png": "[encoded data removed]",
      "text/plain": [
       "<Figure size 576x432 with 1 Axes>"
      ]
     },
     "metadata": {
      "needs_background": "light"
     },
     "output_type": "display_data"
    }
   ],
   "source": [
    "precision, recall, thresholds = precision_recall_curve(y_test, rf_y_pred_prob)\n",
    "pr_auc = auc(recall, precision)\n",
    "\n",
    "# Plot precision-recall curve\n",
    "plt.figure(figsize=(8, 6))\n",
    "plt.plot(recall, precision, color='b', label=f'PR AUC = {pr_auc:.2f}')\n",
    "plt.xlabel('Recall')\n",
    "plt.ylabel('Precision')\n",
    "plt.title('Precision-Recall Curve')\n",
    "plt.legend(loc='best')\n",
    "plt.show()"
   ]
  },
  {
   "cell_type": "code",
   "execution_count": 11,
   "metadata": {},
   "outputs": [],
   "source": [
    "from sklearn.svm import SVC\n",
    "from sklearn.preprocessing import StandardScaler\n",
    "\n",
    "# SVM Classifier\n",
    "# Feature scaling\n",
    "scaler = StandardScaler()\n",
    "x_train_scaled = scaler.fit_transform(x_train)\n",
    "x_test_scaled = scaler.transform(x_test)\n",
    "\n",
    "# SVM with linear kernel\n",
    "svm_clf = SVC(probability=True, kernel='linear', random_state=1)\n",
    "svm_model_res = svm_clf.fit(x_train_scaled, y_train)\n",
    "svm_y_pred = svm_model_res.predict(x_test_scaled)\n",
    "svm_y_pred_prob = svm_model_res.predict_proba(x_test_scaled)\n",
    "svm_probs = svm_y_pred_prob[:, 1]\n",
    "\n",
    "# Evaluation\n",
    "plot_roc_curve(y_test, svm_probs, 'SVM')\n",
    "plot_precision_recall_curve(y_test, svm_probs, 'SVM')\n",
    "\n",
    "# Evaluation metrics\n",
    "svm_ac = accuracy_score(y_test, svm_y_pred)\n",
    "svm_f1 = f1_score(y_test, svm_y_pred, average='weighted')\n",
    "svm_cm = confusion_matrix(y_test, svm_y_pred)\n",
    "\n",
    "print('SVM: Accuracy=%.3f' % (svm_ac))\n",
    "print('SVM: f1-score=%.3f' % (svm_f1))\n",
    "print(\"SVM Confusion Matrix:\\n\", svm_cm)\n",
    "print(\"SVM Classification Report:\\n\", classification_report(y_test, svm_y_pred))"
   ]
  },
  {
   "cell_type": "code",
   "execution_count": null,
   "metadata": {},
   "outputs": [],
   "source": [
    "# Evaluation\n",
    "plot_roc_curve(y_test, svm_y_pred_prob, 'SVM')\n",
    "plot_precision_recall_curve(y_test, svm_y_pred_prob, 'SVM')"
   ]
  },
  {
   "cell_type": "code",
   "execution_count": 24,
   "metadata": {},
   "outputs": [
    {
     "name": "stdout",
     "output_type": "stream",
     "text": [
      "SGDClassifier: Accuracy=0.073\n",
      "SGDClassifier: f1-score=0.013\n",
      "SGDClassifier Confusion Matrix:\n",
      " [[   319 189515]\n",
      " [    10  14556]]\n",
      "SGDClassifier Classification Report:\n",
      "               precision    recall  f1-score   support\n",
      "\n",
      "           0       0.97      0.00      0.00    189834\n",
      "           1       0.07      1.00      0.13     14566\n",
      "\n",
      "    accuracy                           0.07    204400\n",
      "   macro avg       0.52      0.50      0.07    204400\n",
      "weighted avg       0.91      0.07      0.01    204400\n",
      "\n"
     ]
    }
   ],
   "source": [
    "from sklearn.linear_model import SGDClassifier\n",
    "\n",
    "# SGDClassifier as linear SVM\n",
    "sgd_clf = SGDClassifier(loss='hinge', random_state=1)\n",
    "sgd_model_res = sgd_clf.fit(x_train, y_train)\n",
    "sgd_y_pred = sgd_model_res.predict(x_test)\n",
    "sgd_y_pred_prob = sgd_model_res.decision_function(x_test)  # For ROC curve\n",
    "sgd_probs = (sgd_y_pred_prob - sgd_y_pred_prob.min()) / (sgd_y_pred_prob.max() - sgd_y_pred_prob.min())\n",
    "\n",
    "# Evaluation\n",
    "plot_roc_curve(y_test, sgd_probs, 'SGDClassifier')\n",
    "plot_precision_recall_curve(y_test, sgd_probs, 'SGDClassifier')\n",
    "\n",
    "# Evaluation metrics\n",
    "sgd_ac = accuracy_score(y_test, sgd_y_pred)\n",
    "sgd_f1 = f1_score(y_test, sgd_y_pred, average='weighted')\n",
    "sgd_cm = confusion_matrix(y_test, sgd_y_pred)\n",
    "\n",
    "print('SGDClassifier: Accuracy=%.3f' % (sgd_ac))\n",
    "print('SGDClassifier: f1-score=%.3f' % (sgd_f1))\n",
    "print(\"SGDClassifier Confusion Matrix:\\n\", sgd_cm)\n",
    "print(\"SGDClassifier Classification Report:\\n\", classification_report(y_test, sgd_y_pred))"
   ]
  },
  {
   "cell_type": "code",
   "execution_count": 15,
   "metadata": {},
   "outputs": [
    {
     "name": "stderr",
     "output_type": "stream",
     "text": [
      "c:\\Users\\Azadeh\\anaconda3\\lib\\site-packages\\xgboost\\sklearn.py:1395: UserWarning: `use_label_encoder` is deprecated in 1.7.0.\n",
      "  warnings.warn(\"`use_label_encoder` is deprecated in 1.7.0.\")\n"
     ]
    },
    {
     "name": "stdout",
     "output_type": "stream",
     "text": [
      "XGBoost: Accuracy=0.951\n",
      "XGBoost: f1-score=0.947\n",
      "XGBoost Confusion Matrix:\n",
      " [[186796   3038]\n",
      " [  7068   7498]]\n",
      "XGBoost Classification Report:\n",
      "               precision    recall  f1-score   support\n",
      "\n",
      "           0       0.96      0.98      0.97    189834\n",
      "           1       0.71      0.51      0.60     14566\n",
      "\n",
      "    accuracy                           0.95    204400\n",
      "   macro avg       0.84      0.75      0.79    204400\n",
      "weighted avg       0.95      0.95      0.95    204400\n",
      "\n"
     ]
    }
   ],
   "source": [
    "from xgboost import XGBClassifier\n",
    "\n",
    "# XGBoost Classifier\n",
    "xgb_clf = XGBClassifier(n_estimators=300, random_state=1, use_label_encoder=False, eval_metric='logloss')\n",
    "xgb_model_res = xgb_clf.fit(x_train, y_train)\n",
    "xgb_y_pred = xgb_model_res.predict(x_test)\n",
    "xgb_y_pred_prob = xgb_model_res.predict_proba(x_test)\n",
    "xgb_probs = xgb_y_pred_prob[:, 1]\n",
    "\n",
    "# Evaluation\n",
    "xgb_ac = accuracy_score(y_test, xgb_y_pred)\n",
    "xgb_f1 = f1_score(y_test, xgb_y_pred, average='weighted')\n",
    "xgb_cm = confusion_matrix(y_test, xgb_y_pred)\n",
    "\n",
    "print('XGBoost: Accuracy=%.3f' % (xgb_ac))\n",
    "print('XGBoost: f1-score=%.3f' % (xgb_f1))\n",
    "print(\"XGBoost Confusion Matrix:\\n\", xgb_cm)\n",
    "print(\"XGBoost Classification Report:\\n\", classification_report(y_test, xgb_y_pred))\n"
   ]
  },
  {
   "cell_type": "code",
   "execution_count": 20,
   "metadata": {},
   "outputs": [],
   "source": [
    "# Evaluation\n",
    "plot_roc_curve(y_test, xgb_y_pred, 'XGBoost')\n",
    "plot_precision_recall_curve(y_test, xgb_y_pred, 'XGBoost')"
   ]
  },
  {
   "cell_type": "code",
   "execution_count": 17,
   "metadata": {},
   "outputs": [
    {
     "data": {
      "image/png": "[encoded data removed]",
      "text/plain": [
       "<Figure size 576x432 with 1 Axes>"
      ]
     },
     "metadata": {
      "needs_background": "light"
     },
     "output_type": "display_data"
    }
   ],
   "source": [
    "precision, recall, thresholds = precision_recall_curve(y_test, xgb_y_pred)\n",
    "pr_auc = auc(recall, precision)\n",
    "\n",
    "# Plot precision-recall curve\n",
    "plt.figure(figsize=(8, 6))\n",
    "plt.plot(recall, precision, color='b', label=f'PR AUC = {pr_auc:.2f}')\n",
    "plt.xlabel('Recall')\n",
    "plt.ylabel('Precision')\n",
    "plt.title('Precision-Recall Curve')\n",
    "plt.legend(loc='best')\n",
    "plt.show()"
   ]
  },
  {
   "cell_type": "markdown",
   "metadata": {},
   "source": [
    "Random Forest seems to be a better model."
   ]
  }
 ],
 "metadata": {
  "kernelspec": {
   "display_name": "base",
   "language": "python",
   "name": "python3"
  },
  "language_info": {
   "codemirror_mode": {
    "name": "ipython",
    "version": 3
   },
   "file_extension": ".py",
   "mimetype": "text/x-python",
   "name": "python",
   "nbconvert_exporter": "python",
   "pygments_lexer": "ipython3",
   "version": "3.8.8"
  }
 },
 "nbformat": 4,
 "nbformat_minor": 2
}
