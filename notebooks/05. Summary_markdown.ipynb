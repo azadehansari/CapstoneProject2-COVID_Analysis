{
 "cells": [
  {
   "cell_type": "markdown",
   "metadata": {},
   "source": [
    "# COVID Analysis\n",
    "\n",
    "In this project, we precidt and classify the risk of people with COVID symptoms\n",
    "\n",
    "This project is from kaggle at this [Link](https://www.kaggle.com/datasets/meirnizri/covid19-dataset)"
   ]
  },
  {
   "cell_type": "markdown",
   "metadata": {},
   "source": [
    "## Steps to Approach the problem"
   ]
  },
  {
   "cell_type": "markdown",
   "metadata": {},
   "source": [
    "### 1. Data Wrangling\n",
    "\n",
    "* Get rid of missing values in different columns of the data set\n",
    "\n",
    "### 2. Explanatory Data Analysis (EDA)\n",
    "\n",
    "* Study the relationship between the depenedent variables and indepenedent variables\n",
    "\n",
    "### 3. Data Pre-Processing\n",
    "\n",
    "* Feature engineering\n",
    "\n",
    "### 4. Modeling\n",
    "\n",
    "* Split the data set into train and test data sets\n",
    "* Identify the machine learning approaches to adopt for modelling\n",
    "* Train the model and use it to test on a seperate data set\n",
    "* Predict and calculate the Area under ROC curve (AUC) as this is the best criterion for classification models\n",
    "\n",
    "\n"
   ]
  }
 ],
 "metadata": {
  "language_info": {
   "name": "python"
  }
 },
 "nbformat": 4,
 "nbformat_minor": 2
}
