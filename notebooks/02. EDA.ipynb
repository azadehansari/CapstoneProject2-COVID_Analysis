{
 "cells": [
  {
   "cell_type": "code",
   "execution_count": 1,
   "metadata": {},
   "outputs": [],
   "source": [
    "import pandas as pd\n",
    "import numpy as np\n",
    "import matplotlib.pyplot as plt\n",
    "import seaborn as sns\n",
    "\n",
    "from sklearn.linear_model import LogisticRegression\n",
    "from sklearn.model_selection import train_test_split\n",
    "from sklearn.decomposition import PCA\n",
    "from sklearn.preprocessing import scale\n"
   ]
  },
  {
   "cell_type": "code",
   "execution_count": 2,
   "metadata": {},
   "outputs": [
    {
     "data": {
      "text/html": [
       "<div>\n",
       "<style scoped>\n",
       "    .dataframe tbody tr th:only-of-type {\n",
       "        vertical-align: middle;\n",
       "    }\n",
       "\n",
       "    .dataframe tbody tr th {\n",
       "        vertical-align: top;\n",
       "    }\n",
       "\n",
       "    .dataframe thead th {\n",
       "        text-align: right;\n",
       "    }\n",
       "</style>\n",
       "<table border=\"1\" class=\"dataframe\">\n",
       "  <thead>\n",
       "    <tr style=\"text-align: right;\">\n",
       "      <th></th>\n",
       "      <th>USMER</th>\n",
       "      <th>MEDICAL_UNIT</th>\n",
       "      <th>SEX</th>\n",
       "      <th>PATIENT_TYPE</th>\n",
       "      <th>INTUBED</th>\n",
       "      <th>PNEUMONIA</th>\n",
       "      <th>AGE</th>\n",
       "      <th>PREGNANT</th>\n",
       "      <th>DIABETES</th>\n",
       "      <th>COPD</th>\n",
       "      <th>ASTHMA</th>\n",
       "      <th>INMSUPR</th>\n",
       "      <th>HIPERTENSION</th>\n",
       "      <th>CARDIOVASCULAR</th>\n",
       "      <th>OBESITY</th>\n",
       "      <th>RENAL_CHRONIC</th>\n",
       "      <th>TOBACCO</th>\n",
       "      <th>ICU</th>\n",
       "      <th>DIED</th>\n",
       "      <th>COVID</th>\n",
       "    </tr>\n",
       "  </thead>\n",
       "  <tbody>\n",
       "    <tr>\n",
       "      <th>0</th>\n",
       "      <td>2</td>\n",
       "      <td>1</td>\n",
       "      <td>1</td>\n",
       "      <td>1</td>\n",
       "      <td>2</td>\n",
       "      <td>1</td>\n",
       "      <td>65</td>\n",
       "      <td>2</td>\n",
       "      <td>2</td>\n",
       "      <td>2</td>\n",
       "      <td>2</td>\n",
       "      <td>2</td>\n",
       "      <td>1</td>\n",
       "      <td>2</td>\n",
       "      <td>2</td>\n",
       "      <td>2</td>\n",
       "      <td>2</td>\n",
       "      <td>2</td>\n",
       "      <td>1</td>\n",
       "      <td>1</td>\n",
       "    </tr>\n",
       "    <tr>\n",
       "      <th>1</th>\n",
       "      <td>2</td>\n",
       "      <td>1</td>\n",
       "      <td>2</td>\n",
       "      <td>1</td>\n",
       "      <td>2</td>\n",
       "      <td>1</td>\n",
       "      <td>72</td>\n",
       "      <td>2</td>\n",
       "      <td>2</td>\n",
       "      <td>2</td>\n",
       "      <td>2</td>\n",
       "      <td>2</td>\n",
       "      <td>1</td>\n",
       "      <td>2</td>\n",
       "      <td>1</td>\n",
       "      <td>1</td>\n",
       "      <td>2</td>\n",
       "      <td>2</td>\n",
       "      <td>1</td>\n",
       "      <td>2</td>\n",
       "    </tr>\n",
       "    <tr>\n",
       "      <th>2</th>\n",
       "      <td>2</td>\n",
       "      <td>1</td>\n",
       "      <td>2</td>\n",
       "      <td>2</td>\n",
       "      <td>1</td>\n",
       "      <td>2</td>\n",
       "      <td>55</td>\n",
       "      <td>2</td>\n",
       "      <td>1</td>\n",
       "      <td>2</td>\n",
       "      <td>2</td>\n",
       "      <td>2</td>\n",
       "      <td>2</td>\n",
       "      <td>2</td>\n",
       "      <td>2</td>\n",
       "      <td>2</td>\n",
       "      <td>2</td>\n",
       "      <td>2</td>\n",
       "      <td>1</td>\n",
       "      <td>1</td>\n",
       "    </tr>\n",
       "    <tr>\n",
       "      <th>3</th>\n",
       "      <td>2</td>\n",
       "      <td>1</td>\n",
       "      <td>1</td>\n",
       "      <td>1</td>\n",
       "      <td>2</td>\n",
       "      <td>2</td>\n",
       "      <td>53</td>\n",
       "      <td>2</td>\n",
       "      <td>2</td>\n",
       "      <td>2</td>\n",
       "      <td>2</td>\n",
       "      <td>2</td>\n",
       "      <td>2</td>\n",
       "      <td>2</td>\n",
       "      <td>2</td>\n",
       "      <td>2</td>\n",
       "      <td>2</td>\n",
       "      <td>2</td>\n",
       "      <td>1</td>\n",
       "      <td>2</td>\n",
       "    </tr>\n",
       "    <tr>\n",
       "      <th>4</th>\n",
       "      <td>2</td>\n",
       "      <td>1</td>\n",
       "      <td>2</td>\n",
       "      <td>1</td>\n",
       "      <td>2</td>\n",
       "      <td>2</td>\n",
       "      <td>68</td>\n",
       "      <td>2</td>\n",
       "      <td>1</td>\n",
       "      <td>2</td>\n",
       "      <td>2</td>\n",
       "      <td>2</td>\n",
       "      <td>1</td>\n",
       "      <td>2</td>\n",
       "      <td>2</td>\n",
       "      <td>2</td>\n",
       "      <td>2</td>\n",
       "      <td>2</td>\n",
       "      <td>1</td>\n",
       "      <td>1</td>\n",
       "    </tr>\n",
       "  </tbody>\n",
       "</table>\n",
       "</div>"
      ],
      "text/plain": [
       "   USMER  MEDICAL_UNIT  SEX  PATIENT_TYPE  INTUBED  PNEUMONIA  AGE  PREGNANT  \\\n",
       "0      2             1    1             1        2          1   65         2   \n",
       "1      2             1    2             1        2          1   72         2   \n",
       "2      2             1    2             2        1          2   55         2   \n",
       "3      2             1    1             1        2          2   53         2   \n",
       "4      2             1    2             1        2          2   68         2   \n",
       "\n",
       "   DIABETES  COPD  ASTHMA  INMSUPR  HIPERTENSION  CARDIOVASCULAR  OBESITY  \\\n",
       "0         2     2       2        2             1               2        2   \n",
       "1         2     2       2        2             1               2        1   \n",
       "2         1     2       2        2             2               2        2   \n",
       "3         2     2       2        2             2               2        2   \n",
       "4         1     2       2        2             1               2        2   \n",
       "\n",
       "   RENAL_CHRONIC  TOBACCO  ICU  DIED  COVID  \n",
       "0              2        2    2     1      1  \n",
       "1              1        2    2     1      2  \n",
       "2              2        2    2     1      1  \n",
       "3              2        2    2     1      2  \n",
       "4              2        2    2     1      1  "
      ]
     },
     "execution_count": 2,
     "metadata": {},
     "output_type": "execute_result"
    }
   ],
   "source": [
    "df = pd.read_csv('../data/data_cleaned.csv')\n",
    "df.head()"
   ]
  },
  {
   "cell_type": "code",
   "execution_count": 3,
   "metadata": {},
   "outputs": [
    {
     "data": {
      "image/png": "[encoded data removed]",
      "text/plain": [
       "<Figure size 1080x576 with 20 Axes>"
      ]
     },
     "metadata": {
      "needs_background": "light"
     },
     "output_type": "display_data"
    }
   ],
   "source": [
    "# fig, ax = plt.subplots(figsize = (15,8))\n",
    "df.hist(figsize = (15,8))\n",
    "plt.subplots_adjust(hspace = 0.7);\n",
    "# plt.show()"
   ]
  },
  {
   "cell_type": "code",
   "execution_count": 4,
   "metadata": {},
   "outputs": [
    {
     "data": {
      "image/png": "[encoded data removed]",
      "text/plain": [
       "<Figure size 1080x576 with 2 Axes>"
      ]
     },
     "metadata": {
      "needs_background": "light"
     },
     "output_type": "display_data"
    }
   ],
   "source": [
    "fig, ax = plt.subplots(figsize=(15,8))\n",
    "sns.heatmap(df.corr())\n",
    "plt.show()"
   ]
  },
  {
   "attachments": {},
   "cell_type": "markdown",
   "metadata": {},
   "source": [
    "It seems reasonable to use feature 'DIED' as the dependent variable. The variable 'DIED' is correlated with the majority of the other variables but highlighly correlated with 'PATIENT_TYPE', 'INTUBED', 'PNEUMONIA', and 'AGE'. \n",
    "\n",
    "<!-- I'll use these 4 vairables as independed variables for now.  -->"
   ]
  },
  {
   "attachments": {},
   "cell_type": "markdown",
   "metadata": {},
   "source": [
    "Should we use only COVID positive data? "
   ]
  },
  {
   "cell_type": "code",
   "execution_count": 5,
   "metadata": {},
   "outputs": [
    {
     "data": {
      "text/plain": [
       "COVID  DIED\n",
       "2      2       613670\n",
       "1      2       334839\n",
       "       1        52320\n",
       "2      1        21296\n",
       "Name: count, dtype: int64"
      ]
     },
     "execution_count": 5,
     "metadata": {},
     "output_type": "execute_result"
    }
   ],
   "source": [
    "df[['COVID','DIED']].value_counts()"
   ]
  },
  {
   "attachments": {},
   "cell_type": "markdown",
   "metadata": {},
   "source": [
    "* The majority of patients did not have COVID and did not die. \n",
    "* We do have some patients with positive COVID test that either died or survived. \n",
    "* There are also some patients without COVID symptoms that died. "
   ]
  },
  {
   "attachments": {},
   "cell_type": "markdown",
   "metadata": {},
   "source": [
    "If we only want to look at the COVID patients:"
   ]
  },
  {
   "cell_type": "code",
   "execution_count": 6,
   "metadata": {},
   "outputs": [
    {
     "data": {
      "image/png": "[encoded data removed]",
      "text/plain": [
       "<Figure size 1080x576 with 2 Axes>"
      ]
     },
     "metadata": {
      "needs_background": "light"
     },
     "output_type": "display_data"
    }
   ],
   "source": [
    "plt.subplots(figsize=(15,8))\n",
    "sns.heatmap(df[df.COVID == 1].drop(columns=['COVID']).corr())   # filter the data to show only COVID positive patients\n",
    "plt.show()"
   ]
  },
  {
   "attachments": {},
   "cell_type": "markdown",
   "metadata": {},
   "source": [
    "Similar pattern can be seen so we will look at the whole data set and use COVID as a feature to predict 'DIED'. This will allow us have a larger training data set. "
   ]
  },
  {
   "attachments": {},
   "cell_type": "markdown",
   "metadata": {},
   "source": [
    "## PCA"
   ]
  },
  {
   "attachments": {},
   "cell_type": "markdown",
   "metadata": {},
   "source": [
    "Looking at the initial heatmap of the correlations, we see that patient type and age are correlated with most of the variables. I'll include the features in the initiall phase then but I decided to use PCA to reduce the dimentsionality as well as correlation between explanatory variables. "
   ]
  },
  {
   "attachments": {},
   "cell_type": "markdown",
   "metadata": {},
   "source": [
    "Scale the variables except DIED and convert the result to pandas dataframe"
   ]
  },
  {
   "cell_type": "code",
   "execution_count": 7,
   "metadata": {},
   "outputs": [
    {
     "data": {
      "text/html": [
       "<div>\n",
       "<style scoped>\n",
       "    .dataframe tbody tr th:only-of-type {\n",
       "        vertical-align: middle;\n",
       "    }\n",
       "\n",
       "    .dataframe tbody tr th {\n",
       "        vertical-align: top;\n",
       "    }\n",
       "\n",
       "    .dataframe thead th {\n",
       "        text-align: right;\n",
       "    }\n",
       "</style>\n",
       "<table border=\"1\" class=\"dataframe\">\n",
       "  <thead>\n",
       "    <tr style=\"text-align: right;\">\n",
       "      <th></th>\n",
       "      <th>USMER</th>\n",
       "      <th>MEDICAL_UNIT</th>\n",
       "      <th>SEX</th>\n",
       "      <th>PATIENT_TYPE</th>\n",
       "      <th>INTUBED</th>\n",
       "      <th>PNEUMONIA</th>\n",
       "      <th>AGE</th>\n",
       "      <th>PREGNANT</th>\n",
       "      <th>DIABETES</th>\n",
       "      <th>COPD</th>\n",
       "      <th>ASTHMA</th>\n",
       "      <th>INMSUPR</th>\n",
       "      <th>HIPERTENSION</th>\n",
       "      <th>CARDIOVASCULAR</th>\n",
       "      <th>OBESITY</th>\n",
       "      <th>RENAL_CHRONIC</th>\n",
       "      <th>TOBACCO</th>\n",
       "      <th>ICU</th>\n",
       "      <th>COVID</th>\n",
       "    </tr>\n",
       "  </thead>\n",
       "  <tbody>\n",
       "    <tr>\n",
       "      <th>0</th>\n",
       "      <td>0.746984</td>\n",
       "      <td>-2.146622</td>\n",
       "      <td>-1.000862</td>\n",
       "      <td>-0.478053</td>\n",
       "      <td>0.182915</td>\n",
       "      <td>-2.54007</td>\n",
       "      <td>1.380221</td>\n",
       "      <td>0.087697</td>\n",
       "      <td>0.368261</td>\n",
       "      <td>0.119286</td>\n",
       "      <td>0.175091</td>\n",
       "      <td>0.116134</td>\n",
       "      <td>-2.329290</td>\n",
       "      <td>0.141631</td>\n",
       "      <td>0.425236</td>\n",
       "      <td>0.134997</td>\n",
       "      <td>0.29651</td>\n",
       "      <td>0.128081</td>\n",
       "      <td>-1.280650</td>\n",
       "    </tr>\n",
       "    <tr>\n",
       "      <th>1</th>\n",
       "      <td>0.746984</td>\n",
       "      <td>-2.146622</td>\n",
       "      <td>0.999138</td>\n",
       "      <td>-0.478053</td>\n",
       "      <td>0.182915</td>\n",
       "      <td>-2.54007</td>\n",
       "      <td>1.798294</td>\n",
       "      <td>0.087697</td>\n",
       "      <td>0.368261</td>\n",
       "      <td>0.119286</td>\n",
       "      <td>0.175091</td>\n",
       "      <td>0.116134</td>\n",
       "      <td>-2.329290</td>\n",
       "      <td>0.141631</td>\n",
       "      <td>-2.351636</td>\n",
       "      <td>-7.407573</td>\n",
       "      <td>0.29651</td>\n",
       "      <td>0.128081</td>\n",
       "      <td>0.780853</td>\n",
       "    </tr>\n",
       "    <tr>\n",
       "      <th>2</th>\n",
       "      <td>0.746984</td>\n",
       "      <td>-2.146622</td>\n",
       "      <td>0.999138</td>\n",
       "      <td>2.091818</td>\n",
       "      <td>-5.467020</td>\n",
       "      <td>0.39369</td>\n",
       "      <td>0.782974</td>\n",
       "      <td>0.087697</td>\n",
       "      <td>-2.715465</td>\n",
       "      <td>0.119286</td>\n",
       "      <td>0.175091</td>\n",
       "      <td>0.116134</td>\n",
       "      <td>0.429315</td>\n",
       "      <td>0.141631</td>\n",
       "      <td>0.425236</td>\n",
       "      <td>0.134997</td>\n",
       "      <td>0.29651</td>\n",
       "      <td>0.128081</td>\n",
       "      <td>-1.280650</td>\n",
       "    </tr>\n",
       "    <tr>\n",
       "      <th>3</th>\n",
       "      <td>0.746984</td>\n",
       "      <td>-2.146622</td>\n",
       "      <td>-1.000862</td>\n",
       "      <td>-0.478053</td>\n",
       "      <td>0.182915</td>\n",
       "      <td>0.39369</td>\n",
       "      <td>0.663525</td>\n",
       "      <td>0.087697</td>\n",
       "      <td>0.368261</td>\n",
       "      <td>0.119286</td>\n",
       "      <td>0.175091</td>\n",
       "      <td>0.116134</td>\n",
       "      <td>0.429315</td>\n",
       "      <td>0.141631</td>\n",
       "      <td>0.425236</td>\n",
       "      <td>0.134997</td>\n",
       "      <td>0.29651</td>\n",
       "      <td>0.128081</td>\n",
       "      <td>0.780853</td>\n",
       "    </tr>\n",
       "    <tr>\n",
       "      <th>4</th>\n",
       "      <td>0.746984</td>\n",
       "      <td>-2.146622</td>\n",
       "      <td>0.999138</td>\n",
       "      <td>-0.478053</td>\n",
       "      <td>0.182915</td>\n",
       "      <td>0.39369</td>\n",
       "      <td>1.559395</td>\n",
       "      <td>0.087697</td>\n",
       "      <td>-2.715465</td>\n",
       "      <td>0.119286</td>\n",
       "      <td>0.175091</td>\n",
       "      <td>0.116134</td>\n",
       "      <td>-2.329290</td>\n",
       "      <td>0.141631</td>\n",
       "      <td>0.425236</td>\n",
       "      <td>0.134997</td>\n",
       "      <td>0.29651</td>\n",
       "      <td>0.128081</td>\n",
       "      <td>-1.280650</td>\n",
       "    </tr>\n",
       "  </tbody>\n",
       "</table>\n",
       "</div>"
      ],
      "text/plain": [
       "      USMER  MEDICAL_UNIT       SEX  PATIENT_TYPE   INTUBED  PNEUMONIA  \\\n",
       "0  0.746984     -2.146622 -1.000862     -0.478053  0.182915   -2.54007   \n",
       "1  0.746984     -2.146622  0.999138     -0.478053  0.182915   -2.54007   \n",
       "2  0.746984     -2.146622  0.999138      2.091818 -5.467020    0.39369   \n",
       "3  0.746984     -2.146622 -1.000862     -0.478053  0.182915    0.39369   \n",
       "4  0.746984     -2.146622  0.999138     -0.478053  0.182915    0.39369   \n",
       "\n",
       "        AGE  PREGNANT  DIABETES      COPD    ASTHMA   INMSUPR  HIPERTENSION  \\\n",
       "0  1.380221  0.087697  0.368261  0.119286  0.175091  0.116134     -2.329290   \n",
       "1  1.798294  0.087697  0.368261  0.119286  0.175091  0.116134     -2.329290   \n",
       "2  0.782974  0.087697 -2.715465  0.119286  0.175091  0.116134      0.429315   \n",
       "3  0.663525  0.087697  0.368261  0.119286  0.175091  0.116134      0.429315   \n",
       "4  1.559395  0.087697 -2.715465  0.119286  0.175091  0.116134     -2.329290   \n",
       "\n",
       "   CARDIOVASCULAR   OBESITY  RENAL_CHRONIC  TOBACCO       ICU     COVID  \n",
       "0        0.141631  0.425236       0.134997  0.29651  0.128081 -1.280650  \n",
       "1        0.141631 -2.351636      -7.407573  0.29651  0.128081  0.780853  \n",
       "2        0.141631  0.425236       0.134997  0.29651  0.128081 -1.280650  \n",
       "3        0.141631  0.425236       0.134997  0.29651  0.128081  0.780853  \n",
       "4        0.141631  0.425236       0.134997  0.29651  0.128081 -1.280650  "
      ]
     },
     "execution_count": 7,
     "metadata": {},
     "output_type": "execute_result"
    }
   ],
   "source": [
    "df_scaled = pd.DataFrame(scale(df.drop(columns=['DIED'])), columns = df.drop(columns=['DIED']).columns)\n",
    "df_scaled.head()"
   ]
  },
  {
   "attachments": {},
   "cell_type": "markdown",
   "metadata": {},
   "source": [
    "Fit the PCA transformation for this data set"
   ]
  },
  {
   "cell_type": "code",
   "execution_count": 8,
   "metadata": {},
   "outputs": [],
   "source": [
    "rs_pca = PCA().fit(df_scaled)"
   ]
  },
  {
   "cell_type": "code",
   "execution_count": 9,
   "metadata": {},
   "outputs": [
    {
     "data": {
      "text/plain": [
       "array([[-1.38753967e-01, -1.53615220e-01,  6.46896003e-02,\n",
       "         4.47298441e-01, -3.10593474e-01, -4.12836331e-01,\n",
       "         3.43148018e-01,  3.04123741e-02, -3.06419524e-01,\n",
       "        -1.42726581e-01,  1.35072080e-03, -8.54648199e-02,\n",
       "        -3.12594600e-01, -1.45190503e-01, -1.17902988e-01,\n",
       "        -1.69147007e-01, -2.34880698e-02, -2.27052465e-01,\n",
       "        -1.79804285e-01],\n",
       "       [ 1.09417248e-01,  1.43775452e-02, -1.16834792e-01,\n",
       "        -2.24561714e-01,  3.66749942e-01,  2.53951566e-01,\n",
       "         2.52753028e-01,  7.62751282e-02, -3.16509125e-01,\n",
       "        -2.21145608e-01, -9.38576779e-02, -9.02395140e-02,\n",
       "        -3.96471539e-01, -2.60844227e-01, -2.07516812e-01,\n",
       "        -2.25545043e-01, -8.77139517e-02,  3.87866355e-01,\n",
       "         1.08216644e-01],\n",
       "       [-3.18358270e-01, -3.37117235e-01, -5.39905406e-01,\n",
       "         7.56257241e-02,  5.49447875e-02, -7.03403374e-03,\n",
       "        -7.16838624e-02, -3.74788341e-01, -8.50771507e-03,\n",
       "         6.02124330e-02, -1.59424453e-01, -1.40633014e-01,\n",
       "        -3.45044124e-03,  2.60953167e-02,  1.46726104e-01,\n",
       "        -1.24821251e-01,  4.82303897e-01,  1.22129820e-01,\n",
       "         6.98811427e-02],\n",
       "       [ 3.45918219e-02,  1.04477897e-01,  7.26877788e-03,\n",
       "         2.30718084e-02, -1.22486276e-01, -4.57367413e-03,\n",
       "        -2.30708751e-01, -1.22640533e-01,  1.63049271e-01,\n",
       "        -2.87349387e-01, -2.38593265e-01, -5.02758629e-01,\n",
       "         1.58703206e-01, -2.98147609e-01,  9.26815702e-02,\n",
       "        -2.77877830e-01, -2.82259068e-01, -2.32955329e-01,\n",
       "         3.89025506e-01],\n",
       "       [ 4.28887915e-01,  4.53835933e-01, -4.12737459e-01,\n",
       "        -9.97188292e-02, -1.85770375e-01,  3.39626775e-02,\n",
       "         4.77599661e-02, -2.80762142e-01, -1.02485538e-01,\n",
       "         3.39704873e-02, -1.26915298e-01,  1.18858689e-01,\n",
       "        -1.22638666e-01, -3.54907448e-02, -2.62524027e-01,\n",
       "         1.50974281e-01,  1.67655520e-01, -3.66547531e-01,\n",
       "        -2.54950396e-02],\n",
       "       [-2.19715773e-01, -2.51279254e-01, -7.23621898e-02,\n",
       "         1.34794208e-02,  2.00664663e-03, -1.70127698e-02,\n",
       "        -1.05206960e-01, -6.37376086e-02,  1.14199323e-01,\n",
       "        -1.09296134e-01, -5.56650317e-01,  1.58547791e-01,\n",
       "         6.12508254e-02,  8.14649356e-02, -5.11561417e-01,\n",
       "         3.03724236e-01, -3.58015610e-01,  5.13803177e-02,\n",
       "        -1.12295905e-01],\n",
       "       [-8.30884560e-03, -5.11077817e-02,  2.08453975e-02,\n",
       "         5.31780227e-02,  8.07287969e-02, -2.82366861e-02,\n",
       "        -5.88789227e-03, -7.27238973e-01,  1.23499993e-02,\n",
       "        -1.74437015e-01,  4.91159144e-01,  1.37800856e-01,\n",
       "         2.13578067e-02, -5.25691006e-02, -2.54552413e-02,\n",
       "         3.30218371e-02, -3.77502514e-01,  1.19021973e-01,\n",
       "        -7.34251512e-02],\n",
       "       [ 1.35384284e-01, -6.64265070e-02,  8.27413597e-02,\n",
       "        -1.18908438e-02,  2.46547669e-02,  2.05304648e-02,\n",
       "        -1.83096088e-01, -1.01978876e-01, -7.08269590e-02,\n",
       "         5.87460027e-01,  7.89121659e-02, -4.60614633e-01,\n",
       "        -2.98928138e-02,  2.09182093e-01, -3.87872076e-01,\n",
       "        -3.13740445e-01, -1.04819564e-01,  3.35650773e-02,\n",
       "        -2.26178812e-01],\n",
       "       [ 3.72210766e-01, -2.05026599e-02,  1.12199329e-01,\n",
       "         4.61347269e-02,  1.12261764e-01, -6.70678882e-02,\n",
       "         7.19018788e-02, -9.11118062e-02,  1.47514787e-01,\n",
       "        -3.23598198e-01, -1.94671305e-01, -3.39756625e-01,\n",
       "         1.54439403e-01, -4.46165969e-02,  1.68619345e-01,\n",
       "         1.49157095e-01,  1.86855838e-01,  1.95302012e-01,\n",
       "        -6.21579663e-01],\n",
       "       [ 1.03214136e-01,  4.95094207e-02,  3.54143859e-01,\n",
       "         1.18771680e-02,  1.85506427e-02,  9.68685839e-04,\n",
       "        -5.97867059e-02, -3.15114827e-01, -1.05830062e-01,\n",
       "         2.61680870e-01, -4.99556435e-01,  4.17953237e-01,\n",
       "        -7.49539454e-02, -1.16049860e-01,  3.15754205e-01,\n",
       "        -3.59321987e-01, -1.58151572e-02,  2.66885158e-02,\n",
       "        -7.30777806e-02],\n",
       "       [-1.22174840e-01, -6.09934812e-02,  5.90384291e-02,\n",
       "        -3.99352219e-02, -8.59930852e-03,  4.15074143e-02,\n",
       "        -1.34887458e-01,  5.86963534e-02,  2.13927160e-01,\n",
       "         2.15384197e-01,  1.51808361e-01,  1.02624587e-01,\n",
       "         6.72089509e-02, -8.31874170e-01, -2.29963753e-01,\n",
       "         6.39860728e-02,  2.00018736e-01, -3.44314589e-02,\n",
       "        -1.80002873e-01],\n",
       "       [ 5.80175272e-01, -6.88907181e-01, -1.32815388e-01,\n",
       "        -2.87483086e-02, -2.19066887e-01,  1.28017525e-01,\n",
       "        -3.56933474e-02,  1.18624533e-01,  7.89887640e-02,\n",
       "        -3.96147161e-02,  8.74283630e-02,  1.87630007e-01,\n",
       "        -3.83263424e-03, -2.38184430e-02,  2.45870226e-02,\n",
       "        -1.20018768e-01, -6.99409920e-02, -8.75544590e-02,\n",
       "         1.08658760e-01],\n",
       "       [-1.41739274e-01,  1.65454037e-01, -2.70988895e-01,\n",
       "        -5.36294731e-02, -9.85926743e-03,  1.86850933e-02,\n",
       "        -1.70268765e-01,  2.01178419e-01,  1.70153613e-01,\n",
       "        -3.03628177e-01,  1.05036861e-01,  2.85445729e-01,\n",
       "         1.48033533e-01,  1.25372968e-01, -1.25268943e-01,\n",
       "        -6.28122408e-01, -4.36469927e-02, -5.49509857e-02,\n",
       "        -3.73994541e-01],\n",
       "       [ 1.57219346e-02, -6.40620584e-02,  5.07197032e-01,\n",
       "        -2.41799048e-02, -4.97934897e-03,  6.24002114e-02,\n",
       "        -1.32126315e-01, -1.73387395e-01,  3.63935826e-02,\n",
       "        -3.38238181e-01,  5.04651974e-02,  4.73061109e-02,\n",
       "        -2.93827205e-02,  1.78163783e-01, -4.27315502e-01,\n",
       "        -1.04533494e-01,  5.33402629e-01, -6.14421771e-02,\n",
       "         2.26797502e-01],\n",
       "       [-2.98356602e-01, -1.49447922e-01,  1.25383447e-01,\n",
       "        -3.82340381e-01, -2.45976616e-01,  5.32242060e-01,\n",
       "         6.98779694e-03, -7.49079120e-02, -1.67348744e-01,\n",
       "        -9.09609875e-02,  1.41524464e-02, -1.39661669e-01,\n",
       "        -2.00962190e-01,  3.57523019e-02,  1.77832823e-01,\n",
       "         8.18315983e-02, -4.55502929e-02, -3.80178490e-01,\n",
       "        -3.07760796e-01],\n",
       "       [ 5.12501223e-02, -5.92834799e-02, -2.89127040e-02,\n",
       "         5.14111132e-02,  1.62410459e-01, -8.33154286e-02,\n",
       "        -5.01606333e-01,  8.91948201e-02, -7.44159923e-01,\n",
       "        -1.13661184e-01,  4.05092044e-02,  4.30174353e-02,\n",
       "         3.11096569e-01, -8.77723784e-02,  2.28379930e-02,\n",
       "         1.12601244e-01,  1.13489248e-02, -7.73730987e-02,\n",
       "        -5.92551664e-02],\n",
       "       [ 2.40038823e-02, -1.42481310e-01, -1.72378740e-03,\n",
       "         6.12585838e-02,  7.37845848e-01, -1.17599593e-01,\n",
       "        -7.78070459e-04,  1.75522183e-02,  1.69960449e-01,\n",
       "         1.41021705e-02,  7.14953440e-03,  9.48583385e-03,\n",
       "        -2.02956764e-01,  3.77990060e-02,  5.10028965e-02,\n",
       "         1.12357193e-02, -2.44395124e-02, -5.83445090e-01,\n",
       "        -3.51101672e-02],\n",
       "       [-3.71854007e-02, -7.18377849e-02,  2.99721547e-02,\n",
       "        -6.97717085e-02,  1.15408622e-01,  1.34849206e-01,\n",
       "         6.20520671e-01, -6.96077517e-02, -1.55183222e-01,\n",
       "         8.14641183e-02, -4.20597975e-02,  3.05589190e-03,\n",
       "         6.81612156e-01, -3.01552411e-02, -1.27671719e-01,\n",
       "        -1.32129584e-01,  1.83867036e-02, -1.76172623e-01,\n",
       "         5.62257011e-02],\n",
       "       [-3.07471128e-02, -1.07352437e-01,  2.17014622e-02,\n",
       "        -7.51365569e-01, -6.01192544e-02, -6.42847032e-01,\n",
       "         4.15432275e-02, -3.48163843e-02, -2.38423599e-02,\n",
       "        -1.07617647e-02,  5.52750758e-03, -2.36722119e-02,\n",
       "        -4.75365729e-03, -8.31014839e-03,  1.58500145e-02,\n",
       "        -2.95525802e-02,  7.85048703e-03, -8.04092450e-03,\n",
       "         9.30187966e-03]])"
      ]
     },
     "execution_count": 9,
     "metadata": {},
     "output_type": "execute_result"
    }
   ],
   "source": [
    "rs_pca.components_"
   ]
  },
  {
   "cell_type": "code",
   "execution_count": 10,
   "metadata": {},
   "outputs": [
    {
     "data": {
      "text/plain": [
       "array([2.97235814, 1.46488376, 1.16925884, 1.11793284, 1.09311187,\n",
       "       1.0582741 , 0.9880909 , 0.9702051 , 0.94142548, 0.91020408,\n",
       "       0.90031673, 0.875557  , 0.83570129, 0.81186434, 0.75241347,\n",
       "       0.64898902, 0.59786759, 0.56156074, 0.3300033 ])"
      ]
     },
     "execution_count": 10,
     "metadata": {},
     "output_type": "execute_result"
    }
   ],
   "source": [
    "rs_pca.explained_variance_"
   ]
  },
  {
   "cell_type": "code",
   "execution_count": 11,
   "metadata": {},
   "outputs": [
    {
     "data": {
      "text/plain": [
       "array([0.15643975, 0.23353882, 0.2950787 , 0.35391721, 0.41144936,\n",
       "       0.46714794, 0.51915267, 0.57021605, 0.61976471, 0.66767014,\n",
       "       0.71505519, 0.76113709, 0.80512132, 0.84785098, 0.88745165,\n",
       "       0.92160894, 0.95307562, 0.98263142, 1.        ])"
      ]
     },
     "execution_count": 11,
     "metadata": {},
     "output_type": "execute_result"
    }
   ],
   "source": [
    "rs_pca.explained_variance_ratio_.cumsum()"
   ]
  },
  {
   "cell_type": "code",
   "execution_count": 12,
   "metadata": {},
   "outputs": [
    {
     "data": {
      "image/png": "[encoded data removed]",
      "text/plain": [
       "<Figure size 1080x576 with 1 Axes>"
      ]
     },
     "metadata": {
      "needs_background": "light"
     },
     "output_type": "display_data"
    }
   ],
   "source": [
    "fig, ax = plt.subplots(figsize=(15,8))\n",
    "plt.plot(rs_pca.explained_variance_ratio_.cumsum())\n",
    "ax.set_xticks([i for i in range(19)])\n",
    "ax.set_xlabel('PCA component #')\n",
    "ax.set_ylabel('cumulative ratio of variance explained')\n",
    "plt.grid()\n",
    "plt.show()"
   ]
  },
  {
   "attachments": {},
   "cell_type": "markdown",
   "metadata": {},
   "source": [
    "About 12 components can explain almost 80% of the variance however we needa at least 14 components to get 90% of the variance explained."
   ]
  },
  {
   "cell_type": "code",
   "execution_count": 14,
   "metadata": {},
   "outputs": [
    {
     "data": {
      "text/plain": [
       "(1022125, 19)"
      ]
     },
     "execution_count": 14,
     "metadata": {},
     "output_type": "execute_result"
    }
   ],
   "source": [
    "np_pca = rs_pca.transform(df_scaled)\n",
    "np_pca.shape"
   ]
  },
  {
   "cell_type": "code",
   "execution_count": 15,
   "metadata": {},
   "outputs": [
    {
     "data": {
      "text/plain": [
       "array([[ 2.10489052e+00,  5.35824506e-01,  9.72418528e-01, ...,\n",
       "         1.26128242e+00, -1.14890523e+00,  2.21130150e+00],\n",
       "       [ 3.61026807e+00,  2.90834988e+00,  5.40731996e-01, ...,\n",
       "         9.58755118e-01,  6.37495987e-01,  2.47013735e+00],\n",
       "       [ 3.80508407e+00, -1.87065708e+00, -1.84584986e-01, ...,\n",
       "        -4.18205287e+00,  4.63536106e-01, -1.18689855e+00],\n",
       "       ...,\n",
       "       [-9.09946384e-01,  7.19527168e-02, -1.03723684e+00, ...,\n",
       "        -1.78198285e-01,  7.00718140e-01,  3.98881121e-03],\n",
       "       [-1.46329524e+00, -3.35628241e-01, -9.21641874e-01, ...,\n",
       "        -1.76943595e-01, -2.99912444e-01, -6.30023882e-02],\n",
       "       [-9.71429590e-01,  2.66659436e-02, -1.02439295e+00, ...,\n",
       "        -1.78058875e-01,  5.89536964e-01, -3.45465539e-03]])"
      ]
     },
     "execution_count": 15,
     "metadata": {},
     "output_type": "execute_result"
    }
   ],
   "source": [
    "np_pca"
   ]
  },
  {
   "attachments": {},
   "cell_type": "markdown",
   "metadata": {},
   "source": [
    "Lt's create a data frame with the first 15 components as well as the target variable and save it so it can be used for the modeling purposes."
   ]
  },
  {
   "cell_type": "code",
   "execution_count": 16,
   "metadata": {},
   "outputs": [
    {
     "data": {
      "text/html": [
       "<div>\n",
       "<style scoped>\n",
       "    .dataframe tbody tr th:only-of-type {\n",
       "        vertical-align: middle;\n",
       "    }\n",
       "\n",
       "    .dataframe tbody tr th {\n",
       "        vertical-align: top;\n",
       "    }\n",
       "\n",
       "    .dataframe thead th {\n",
       "        text-align: right;\n",
       "    }\n",
       "</style>\n",
       "<table border=\"1\" class=\"dataframe\">\n",
       "  <thead>\n",
       "    <tr style=\"text-align: right;\">\n",
       "      <th></th>\n",
       "      <th>PC1</th>\n",
       "      <th>PC2</th>\n",
       "      <th>PC3</th>\n",
       "      <th>PC4</th>\n",
       "      <th>PC5</th>\n",
       "      <th>PC6</th>\n",
       "      <th>PC7</th>\n",
       "      <th>PC8</th>\n",
       "      <th>PC9</th>\n",
       "      <th>PC10</th>\n",
       "      <th>PC11</th>\n",
       "      <th>PC12</th>\n",
       "      <th>PC13</th>\n",
       "      <th>PC14</th>\n",
       "      <th>PC15</th>\n",
       "      <th>DIED</th>\n",
       "    </tr>\n",
       "  </thead>\n",
       "  <tbody>\n",
       "    <tr>\n",
       "      <th>0</th>\n",
       "      <td>2.104891</td>\n",
       "      <td>0.535825</td>\n",
       "      <td>0.972419</td>\n",
       "      <td>-1.652835</td>\n",
       "      <td>-0.089341</td>\n",
       "      <td>0.020579</td>\n",
       "      <td>0.091327</td>\n",
       "      <td>0.016455</td>\n",
       "      <td>1.014249</td>\n",
       "      <td>-0.208982</td>\n",
       "      <td>-0.223492</td>\n",
       "      <td>1.544934</td>\n",
       "      <td>-0.358975</td>\n",
       "      <td>-0.958716</td>\n",
       "      <td>-0.433076</td>\n",
       "      <td>1</td>\n",
       "    </tr>\n",
       "    <tr>\n",
       "      <th>1</th>\n",
       "      <td>3.610268</td>\n",
       "      <td>2.908350</td>\n",
       "      <td>0.540732</td>\n",
       "      <td>0.905775</td>\n",
       "      <td>-1.357146</td>\n",
       "      <td>-1.269949</td>\n",
       "      <td>-0.199194</td>\n",
       "      <td>3.082603</td>\n",
       "      <td>-1.605943</td>\n",
       "      <td>2.157063</td>\n",
       "      <td>-0.376924</td>\n",
       "      <td>2.325356</td>\n",
       "      <td>3.342385</td>\n",
       "      <td>2.443035</td>\n",
       "      <td>-1.924877</td>\n",
       "      <td>1</td>\n",
       "    </tr>\n",
       "    <tr>\n",
       "      <th>2</th>\n",
       "      <td>3.805084</td>\n",
       "      <td>-1.870657</td>\n",
       "      <td>-0.184585</td>\n",
       "      <td>-0.827594</td>\n",
       "      <td>-0.072651</td>\n",
       "      <td>-0.271112</td>\n",
       "      <td>-0.244924</td>\n",
       "      <td>0.317616</td>\n",
       "      <td>0.454374</td>\n",
       "      <td>0.583150</td>\n",
       "      <td>-0.431414</td>\n",
       "      <td>2.585876</td>\n",
       "      <td>-0.942900</td>\n",
       "      <td>0.090368</td>\n",
       "      <td>1.743857</td>\n",
       "      <td>1</td>\n",
       "    </tr>\n",
       "    <tr>\n",
       "      <th>3</th>\n",
       "      <td>-0.585197</td>\n",
       "      <td>0.229091</td>\n",
       "      <td>1.137700</td>\n",
       "      <td>-0.261128</td>\n",
       "      <td>-0.414802</td>\n",
       "      <td>-0.016463</td>\n",
       "      <td>-0.079741</td>\n",
       "      <td>-0.340820</td>\n",
       "      <td>-0.089395</td>\n",
       "      <td>-0.520710</td>\n",
       "      <td>-0.190719</td>\n",
       "      <td>2.159516</td>\n",
       "      <td>-0.544751</td>\n",
       "      <td>-0.294466</td>\n",
       "      <td>-0.065439</td>\n",
       "      <td>1</td>\n",
       "    </tr>\n",
       "    <tr>\n",
       "      <th>4</th>\n",
       "      <td>2.029504</td>\n",
       "      <td>2.068502</td>\n",
       "      <td>-0.114637</td>\n",
       "      <td>-2.195852</td>\n",
       "      <td>-0.490583</td>\n",
       "      <td>-0.545067</td>\n",
       "      <td>0.011039</td>\n",
       "      <td>0.427774</td>\n",
       "      <td>0.599874</td>\n",
       "      <td>0.817786</td>\n",
       "      <td>-0.667503</td>\n",
       "      <td>1.404901</td>\n",
       "      <td>-1.401350</td>\n",
       "      <td>0.102844</td>\n",
       "      <td>1.896471</td>\n",
       "      <td>1</td>\n",
       "    </tr>\n",
       "  </tbody>\n",
       "</table>\n",
       "</div>"
      ],
      "text/plain": [
       "        PC1       PC2       PC3       PC4       PC5       PC6       PC7  \\\n",
       "0  2.104891  0.535825  0.972419 -1.652835 -0.089341  0.020579  0.091327   \n",
       "1  3.610268  2.908350  0.540732  0.905775 -1.357146 -1.269949 -0.199194   \n",
       "2  3.805084 -1.870657 -0.184585 -0.827594 -0.072651 -0.271112 -0.244924   \n",
       "3 -0.585197  0.229091  1.137700 -0.261128 -0.414802 -0.016463 -0.079741   \n",
       "4  2.029504  2.068502 -0.114637 -2.195852 -0.490583 -0.545067  0.011039   \n",
       "\n",
       "        PC8       PC9      PC10      PC11      PC12      PC13      PC14  \\\n",
       "0  0.016455  1.014249 -0.208982 -0.223492  1.544934 -0.358975 -0.958716   \n",
       "1  3.082603 -1.605943  2.157063 -0.376924  2.325356  3.342385  2.443035   \n",
       "2  0.317616  0.454374  0.583150 -0.431414  2.585876 -0.942900  0.090368   \n",
       "3 -0.340820 -0.089395 -0.520710 -0.190719  2.159516 -0.544751 -0.294466   \n",
       "4  0.427774  0.599874  0.817786 -0.667503  1.404901 -1.401350  0.102844   \n",
       "\n",
       "       PC15  DIED  \n",
       "0 -0.433076     1  \n",
       "1 -1.924877     1  \n",
       "2  1.743857     1  \n",
       "3 -0.065439     1  \n",
       "4  1.896471     1  "
      ]
     },
     "execution_count": 16,
     "metadata": {},
     "output_type": "execute_result"
    }
   ],
   "source": [
    "df_pca = pd.DataFrame({'PC1': np_pca[:,0], 'PC2': np_pca[:,1], 'PC3': np_pca[:,2], 'PC4': np_pca[:,3],\n",
    "                       'PC5': np_pca[:,4], 'PC6': np_pca[:,5], 'PC7': np_pca[:,6], 'PC8': np_pca[:,7],\n",
    "                       'PC9': np_pca[:,8], 'PC10': np_pca[:,9], 'PC11': np_pca[:,10], 'PC12': np_pca[:,11],\n",
    "                       'PC13': np_pca[:,12], 'PC14': np_pca[:,13], 'PC15': np_pca[:,14], 'DIED': df['DIED']})\n",
    "df_pca.head()"
   ]
  },
  {
   "cell_type": "code",
   "execution_count": 17,
   "metadata": {},
   "outputs": [],
   "source": [
    "df_pca.to_csv('../data/pca_feastures_target.csv')"
   ]
  }
 ],
 "metadata": {
  "kernelspec": {
   "display_name": "base",
   "language": "python",
   "name": "python3"
  },
  "language_info": {
   "codemirror_mode": {
    "name": "ipython",
    "version": 3
   },
   "file_extension": ".py",
   "mimetype": "text/x-python",
   "name": "python",
   "nbconvert_exporter": "python",
   "pygments_lexer": "ipython3",
   "version": "3.8.8"
  },
  "orig_nbformat": 4
 },
 "nbformat": 4,
 "nbformat_minor": 2
}
